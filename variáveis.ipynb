{
  "nbformat": 4,
  "nbformat_minor": 0,
  "metadata": {
    "colab": {
      "provenance": [],
      "authorship_tag": "ABX9TyOoFP8Bk6X1sCU5fyz44KnW",
      "include_colab_link": true
    },
    "kernelspec": {
      "name": "python3",
      "display_name": "Python 3"
    },
    "language_info": {
      "name": "python"
    }
  },
  "cells": [
    {
      "cell_type": "markdown",
      "metadata": {
        "id": "view-in-github",
        "colab_type": "text"
      },
      "source": [
        "<a href=\"https://colab.research.google.com/github/abeatrizvarela/abeatrizvarela/blob/main/vari%C3%A1veis.ipynb\" target=\"_parent\"><img src=\"https://colab.research.google.com/assets/colab-badge.svg\" alt=\"Open In Colab\"/></a>"
      ]
    },
    {
      "cell_type": "markdown",
      "source": [
        "Escopo de variáveis"
      ],
      "metadata": {
        "id": "xwxHxmpZmUs8"
      }
    },
    {
      "cell_type": "code",
      "execution_count": 1,
      "metadata": {
        "colab": {
          "base_uri": "https://localhost:8080/"
        },
        "id": "-r5j08huk7za",
        "outputId": "451fa0f3-e4a9-4107-b888-77f792026053"
      },
      "outputs": [
        {
          "output_type": "stream",
          "name": "stdout",
          "text": [
            "a antes de mudar:  5\n",
            "a dentro da função:  10\n",
            "a depois de mudar:  5\n"
          ]
        }
      ],
      "source": [
        "a=5\n",
        "def muda_e_imprime():\n",
        "  a=10\n",
        "  print('a dentro da função: ', a) #a=10\n",
        "\n",
        "print('a antes de mudar: ', a) #a=5\n",
        "muda_e_imprime() #chamada da funcao, a=10\n",
        "print('a depois de mudar: ', a) #a=5\n",
        "\n"
      ]
    },
    {
      "cell_type": "code",
      "source": [
        "a=5\n",
        "def muda_e_imprime():\n",
        "  global a #declara que a é uma variável global\n",
        "  a=10\n",
        "  print('a dentro da função: ', a) #a=10\n",
        "\n",
        "print('a antes de mudar: ', a) #a=5\n",
        "muda_e_imprime() #chamada da funcao, a=10\n",
        "print('a depois de mudar: ', a) #a=10"
      ],
      "metadata": {
        "colab": {
          "base_uri": "https://localhost:8080/"
        },
        "id": "U5T8nVYenuJa",
        "outputId": "6c90b9ca-39fa-4296-b639-915712b03e6f"
      },
      "execution_count": 2,
      "outputs": [
        {
          "output_type": "stream",
          "name": "stdout",
          "text": [
            "a antes de mudar:  5\n",
            "a dentro da função:  10\n",
            "a depois de mudar:  10\n"
          ]
        }
      ]
    }
  ]
}