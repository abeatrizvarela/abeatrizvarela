{
  "nbformat": 4,
  "nbformat_minor": 0,
  "metadata": {
    "colab": {
      "provenance": [],
      "authorship_tag": "ABX9TyNjnl+ZV2SlviVW9eg35R6c",
      "include_colab_link": true
    },
    "kernelspec": {
      "name": "python3",
      "display_name": "Python 3"
    },
    "language_info": {
      "name": "python"
    }
  },
  "cells": [
    {
      "cell_type": "markdown",
      "metadata": {
        "id": "view-in-github",
        "colab_type": "text"
      },
      "source": [
        "<a href=\"https://colab.research.google.com/github/abeatrizvarela/abeatrizvarela/blob/main/Corre%C3%A7%C3%A3o_atv4.ipynb\" target=\"_parent\"><img src=\"https://colab.research.google.com/assets/colab-badge.svg\" alt=\"Open In Colab\"/></a>"
      ]
    },
    {
      "cell_type": "markdown",
      "source": [
        "5.Desenvolva um programa que monitore a qualidade da água de um reservatório usando um loop while. (tem que finalizar, ter um break)\n"
      ],
      "metadata": {
        "id": "YvJ-YpygOeAd"
      }
    },
    {
      "cell_type": "code",
      "execution_count": 25,
      "metadata": {
        "colab": {
          "base_uri": "https://localhost:8080/"
        },
        "id": "qJejws_fOccM",
        "outputId": "fb6de90d-5a2b-4c4d-ccf4-8fdb84645859"
      },
      "outputs": [
        {
          "output_type": "stream",
          "name": "stdout",
          "text": [
            "Digite a leitura da qualidade da água ou -1 para sair 2\n",
            "Digite a leitura da qualidade da água ou -1 para sair -1\n",
            "A média da qualidade da água é: 2.0\n"
          ]
        }
      ],
      "source": [
        "qualidade = []\n",
        "while True:\n",
        "  leitura = float(input(\"Digite a leitura da qualidade da água ou -1 para sair \"))\n",
        "  if leitura == -1:\n",
        "    break\n",
        "  qualidade.append(leitura)\n",
        "#cálculo da média da qualidade\n",
        "media_qualidade = sum(qualidade) / len(qualidade)\n",
        "print(f\"A média da qualidade da água é: {media_qualidade}\")\n"
      ]
    },
    {
      "cell_type": "markdown",
      "source": [],
      "metadata": {
        "id": "gZEdb73xWc-x"
      }
    },
    {
      "cell_type": "code",
      "source": [
        "print (\"Anna Batriz\")"
      ],
      "metadata": {
        "colab": {
          "base_uri": "https://localhost:8080/"
        },
        "id": "29VYQqElWdgw",
        "outputId": "59a41511-febe-48b2-95d6-93bf700fa647"
      },
      "execution_count": 27,
      "outputs": [
        {
          "output_type": "stream",
          "name": "stdout",
          "text": [
            "Anna Batriz\n"
          ]
        }
      ]
    }
  ]
}