{
  "nbformat": 4,
  "nbformat_minor": 0,
  "metadata": {
    "colab": {
      "provenance": [],
      "authorship_tag": "ABX9TyO2mt2BiC69Ja4mx+1zOHIh",
      "include_colab_link": true
    },
    "kernelspec": {
      "name": "python3",
      "display_name": "Python 3"
    },
    "language_info": {
      "name": "python"
    }
  },
  "cells": [
    {
      "cell_type": "markdown",
      "metadata": {
        "id": "view-in-github",
        "colab_type": "text"
      },
      "source": [
        "<a href=\"https://colab.research.google.com/github/abeatrizvarela/abeatrizvarela/blob/main/Untitled4.ipynb\" target=\"_parent\"><img src=\"https://colab.research.google.com/assets/colab-badge.svg\" alt=\"Open In Colab\"/></a>"
      ]
    },
    {
      "cell_type": "code",
      "execution_count": null,
      "metadata": {
        "colab": {
          "base_uri": "https://localhost:8080/"
        },
        "id": "6EPi4H9x1l_7",
        "outputId": "e2486b68-0e58-4624-9a3d-0c162ab8c19d"
      },
      "outputs": [
        {
          "name": "stdout",
          "output_type": "stream",
          "text": [
            "Insira o nível de cloro da água para verificar se o nível de cloro está dentro do padrão aceito \n",
            "Digite o nível de cloro em mg/L:1\n",
            "Digite o nível de cloro em mg/L:2\n",
            "Digite o nível de cloro em mg/L:4\n"
          ]
        }
      ],
      "source": [
        "#Programa de controle de qualdidade da água\n",
        "print(\"Insira o nível de cloro da água para verificar se o nível de cloro está dentro do padrão aceito \")\n",
        "paradinha = True\n",
        "#paradinha = 1 #outro exemplo\n",
        "\n",
        "while paradinha: #loop infinito // infinete loop\n",
        " nivel_cloro = float(input(\"Digite o nível de cloro em mg/L:\"))\n",
        "  #verificando se o  0.2 > nivel_cloro < 2\n",
        "if nivel_cloro < 0.2:\n",
        "    print(\"Atenção: O nível de cloro está abaixo do padrão aceitável\")\n",
        "elif nivel_cloro > 2.0:\n",
        "   print(\"Atenção: o nível de cloro está acima do padrão aceitável.\")\n",
        "else:\n",
        "    print(\"O nível do cloro está dentro dos padrões aceitáveis.\")\n",
        "    paradinha = False\n",
        "\n",
        "\n",
        "\n",
        "\n"
      ]
    }
  ]
}