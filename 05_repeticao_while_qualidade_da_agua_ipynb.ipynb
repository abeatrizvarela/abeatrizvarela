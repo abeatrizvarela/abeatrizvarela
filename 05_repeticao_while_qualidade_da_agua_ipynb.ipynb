{
  "nbformat": 4,
  "nbformat_minor": 0,
  "metadata": {
    "colab": {
      "provenance": [],
      "authorship_tag": "ABX9TyM5lQ1h5IMbNL1zVeWnYpiW",
      "include_colab_link": true
    },
    "kernelspec": {
      "name": "python3",
      "display_name": "Python 3"
    },
    "language_info": {
      "name": "python"
    }
  },
  "cells": [
    {
      "cell_type": "markdown",
      "metadata": {
        "id": "view-in-github",
        "colab_type": "text"
      },
      "source": [
        "<a href=\"https://colab.research.google.com/github/abeatrizvarela/abeatrizvarela/blob/main/05_repeticao_while_qualidade_da_agua_ipynb.ipynb\" target=\"_parent\"><img src=\"https://colab.research.google.com/assets/colab-badge.svg\" alt=\"Open In Colab\"/></a>"
      ]
    },
    {
      "cell_type": "code",
      "execution_count": null,
      "metadata": {
        "colab": {
          "base_uri": "https://localhost:8080/"
        },
        "id": "Y-Ib_5OLTzY_",
        "outputId": "50b3b6de-6bb9-4648-e911-7d1adabba07c"
      },
      "outputs": [
        {
          "output_type": "stream",
          "name": "stdout",
          "text": [
            "Insira o nível de cloro da água para verificar se está dentro do padrão aceito.\n",
            "Digite o nível de cloro em mg/L: 4\n",
            "Atenção: o nível de cloro está acima do padrão aceitável.\n",
            "Digite o nível de cloro em mg/L: 5\n",
            "Atenção: o nível de cloro está acima do padrão aceitável.\n",
            "Digite o nível de cloro em mg/L: 2\n",
            "O nível do cloro está dentro dos padrões aceitáveis.\n"
          ]
        }
      ],
      "source": [
        "#Programa de controle de qualidade de agua\n",
        "print(\"Insira o nível de cloro da água para verificar se está dentro do padrão aceito.\")\n",
        "paradinha = True\n",
        "#paradinha = 1 #outro exemplo\n",
        "\n",
        "while paradinha: #loop infinito // infinete loop\n",
        "  nivel_cloro = float(input(\"Digite o nível de cloro em mg/L: \"))\n",
        "  #verificando se o  0.2 > nivel_cloro < 2\n",
        "  if nivel_cloro < 0.2:\n",
        "    print(\"Atenção: O nível de cloro está abaixo do padrão aceitável\")\n",
        "  elif nivel_cloro > 2.0:\n",
        "    print(\"Atenção: o nível de cloro está acima do padrão aceitável.\")\n",
        "  else:\n",
        "    print(\"O nível do cloro está dentro dos padrões aceitáveis.\")\n",
        "paradinha = False\n",
        ""
      ]
    }
  ]
}