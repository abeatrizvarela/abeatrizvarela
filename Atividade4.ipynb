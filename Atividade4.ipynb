{
  "nbformat": 4,
  "nbformat_minor": 0,
  "metadata": {
    "colab": {
      "provenance": [],
      "authorship_tag": "ABX9TyPpqP6ibbhzK/Y3MZmvcNhG",
      "include_colab_link": true
    },
    "kernelspec": {
      "name": "python3",
      "display_name": "Python 3"
    },
    "language_info": {
      "name": "python"
    }
  },
  "cells": [
    {
      "cell_type": "markdown",
      "metadata": {
        "id": "view-in-github",
        "colab_type": "text"
      },
      "source": [
        "<a href=\"https://colab.research.google.com/github/abeatrizvarela/abeatrizvarela/blob/main/Atividade4.ipynb\" target=\"_parent\"><img src=\"https://colab.research.google.com/assets/colab-badge.svg\" alt=\"Open In Colab\"/></a>"
      ]
    },
    {
      "cell_type": "markdown",
      "source": [
        "1.\n",
        "Escreva um programa que imprima \"Olá, Mundo!\" na tela."
      ],
      "metadata": {
        "id": "iScqYAZqdCQ4"
      }
    },
    {
      "cell_type": "code",
      "execution_count": 1,
      "metadata": {
        "colab": {
          "base_uri": "https://localhost:8080/"
        },
        "id": "M1k3gTABc-kr",
        "outputId": "7b91741c-1c03-478d-80f0-b65030f8dbea"
      },
      "outputs": [
        {
          "output_type": "stream",
          "name": "stdout",
          "text": [
            "Olá, mundo!\n"
          ]
        }
      ],
      "source": [
        "#Imprime \"Olá, mundo!\" na tela\n",
        "print(\"Olá, mundo!\")\n"
      ]
    },
    {
      "cell_type": "markdown",
      "source": [
        "2.\n",
        "Crie um programa que leia três notas de um aluno e calcule a média final."
      ],
      "metadata": {
        "id": "nHeGXPhGdjG9"
      }
    },
    {
      "cell_type": "code",
      "source": [
        "print (\"Calculadora de média do IFRN\")\n",
        "#Imprime \"Calculadora de média do IFRN\"\n",
        "n1 = float (input (\"Digite a nota 1 \"))\n",
        "n2 = float (input (\"Digite a nota 2 \"))\n",
        "n3 = float (input (\"Digite a nota 3 \"))\n",
        "\n",
        "#calculo de média\n",
        "media = (n1 +  n2 + n3) / 3\n",
        "\n",
        "#impressao da media\n",
        "print (f\"A média das notas é: {media:.2f}\")\n"
      ],
      "metadata": {
        "colab": {
          "base_uri": "https://localhost:8080/"
        },
        "id": "A2JQrU6NdjRr",
        "outputId": "a4aac6b4-fee2-45f8-d502-725c37b829f0"
      },
      "execution_count": 6,
      "outputs": [
        {
          "output_type": "stream",
          "name": "stdout",
          "text": [
            "Calculadora de média do IFRN\n",
            "Digite a nota 1 3\n",
            "Digite a nota 2 4\n",
            "Digite a nota 3 5\n",
            "A média das notas é: 4.00\n"
          ]
        }
      ]
    },
    {
      "cell_type": "markdown",
      "source": [
        "3.\n",
        "Escreva um programa que calcule a média de notas, permitindo a entrada repetida de notas até que o usuário indique que não deseja mais inserir."
      ],
      "metadata": {
        "id": "e37fUFd2eFcB"
      }
    },
    {
      "cell_type": "code",
      "source": [],
      "metadata": {
        "id": "PE5WYK3UeEk3"
      },
      "execution_count": null,
      "outputs": []
    },
    {
      "cell_type": "markdown",
      "source": [
        "\n",
        "4.\n",
        "Crie um programa que leia três números e determine o maior deles.\n",
        "\n",
        "---\n",
        "\n"
      ],
      "metadata": {
        "id": "wHuO3qFReEso"
      }
    },
    {
      "cell_type": "code",
      "source": [],
      "metadata": {
        "id": "T92qIRYKeMzi"
      },
      "execution_count": null,
      "outputs": []
    },
    {
      "cell_type": "markdown",
      "source": [
        "5.\n",
        "Desenvolva um programa que monitore a qualidade da água de um reservatório usando um loop while."
      ],
      "metadata": {
        "id": "F3F9mZRfeN3a"
      }
    },
    {
      "cell_type": "code",
      "source": [],
      "metadata": {
        "id": "orJhrL_6g4xf"
      },
      "execution_count": null,
      "outputs": []
    },
    {
      "cell_type": "markdown",
      "source": [
        "6.\n",
        "Implemente um programa que utilize um loop while para calcular a soma dos números de 1 a 100.\n"
      ],
      "metadata": {
        "id": "9ywLFQSBg5CH"
      }
    },
    {
      "cell_type": "code",
      "source": [],
      "metadata": {
        "id": "WkrffZPWhBro"
      },
      "execution_count": null,
      "outputs": []
    },
    {
      "cell_type": "markdown",
      "source": [
        "7.\n",
        "Escreva um programa que imprima todos os números ímpares de 1 a 50 usando um loop for."
      ],
      "metadata": {
        "id": "yBVhRIV5hB_Y"
      }
    },
    {
      "cell_type": "code",
      "source": [],
      "metadata": {
        "id": "vyDjUDcHhCMA"
      },
      "execution_count": null,
      "outputs": []
    },
    {
      "cell_type": "markdown",
      "source": [
        "8.\n",
        "Desenvolva um programa que utilize os objetos built-in do Python para realizar operações com listas e dicionários."
      ],
      "metadata": {
        "id": "2T8YRn7RhK6B"
      }
    },
    {
      "cell_type": "code",
      "source": [],
      "metadata": {
        "id": "n3SUvIAVhO7A"
      },
      "execution_count": null,
      "outputs": []
    }
  ]
}