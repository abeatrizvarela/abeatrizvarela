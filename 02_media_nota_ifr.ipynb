{
  "nbformat": 4,
  "nbformat_minor": 0,
  "metadata": {
    "colab": {
      "provenance": [],
      "include_colab_link": true
    },
    "kernelspec": {
      "name": "python3",
      "display_name": "Python 3"
    },
    "language_info": {
      "name": "python"
    }
  },
  "cells": [
    {
      "cell_type": "markdown",
      "metadata": {
        "id": "view-in-github",
        "colab_type": "text"
      },
      "source": [
        "<a href=\"https://colab.research.google.com/github/abeatrizvarela/abeatrizvarela/blob/main/02_media_nota_ifr.ipynb\" target=\"_parent\"><img src=\"https://colab.research.google.com/assets/colab-badge.svg\" alt=\"Open In Colab\"/></a>"
      ]
    },
    {
      "cell_type": "markdown",
      "source": [
        "Calculadora de média ponderada IFRN"
      ],
      "metadata": {
        "id": "KQK9cQffxXL0"
      }
    },
    {
      "cell_type": "code",
      "execution_count": 3,
      "metadata": {
        "colab": {
          "base_uri": "https://localhost:8080/"
        },
        "id": "cgrOP9wrxOlu",
        "outputId": "709519dc-f76c-466f-9f2f-6c646dbba58f"
      },
      "outputs": [
        {
          "output_type": "stream",
          "name": "stdout",
          "text": [
            "Calculadora de média ponderada do IFRN\n",
            "Digite a nota 1 (com peso 2):5.0\n",
            "Digite a nota 2 (com peso 3):6.0\n",
            "A media ponderada das notas é: 5.60\n",
            "A media ponderada das notas é:  5.6\n",
            "Reprovado\n"
          ]
        }
      ],
      "source": [
        "print (\"Calculadora de média ponderada do IFRN\")\n",
        "#Float, tipagem explícita, para garantir número fracionário\n",
        "n1 = float (input (\"Digite a nota 1 (com peso 2):\"))\n",
        "n2 = float (input (\"Digite a nota 2 (com peso 3):\"))\n",
        "\n",
        "#calculo de media ponderada\n",
        "media = (n1 * 2 +  n2 * 3) / 5\n",
        "\n",
        "#impressao da media\n",
        "print (f\"A media ponderada das notas é: {media:.2f}\")\n",
        "\n",
        "#impressao da media\n",
        "print(\"A media ponderada das notas é: \" , media)\n",
        "\n",
        "#apresentar se o aluno foi aprovado ou não\n",
        "if media >=6:\n",
        "  print(\"Aprovado\")\n",
        "else:\n",
        "  print(\"Reprovado\")\n",
        ""
      ]
    }
  ]
}