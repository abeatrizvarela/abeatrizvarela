{
  "nbformat": 4,
  "nbformat_minor": 0,
  "metadata": {
    "colab": {
      "provenance": [],
      "include_colab_link": true
    },
    "kernelspec": {
      "name": "python3",
      "display_name": "Python 3"
    },
    "language_info": {
      "name": "python"
    }
  },
  "cells": [
    {
      "cell_type": "markdown",
      "metadata": {
        "id": "view-in-github",
        "colab_type": "text"
      },
      "source": [
        "<a href=\"https://colab.research.google.com/github/abeatrizvarela/abeatrizvarela/blob/main/02_media_nota_ifr.ipynb\" target=\"_parent\"><img src=\"https://colab.research.google.com/assets/colab-badge.svg\" alt=\"Open In Colab\"/></a>"
      ]
    },
    {
      "cell_type": "markdown",
      "source": [
        "Calculadora de média ponderada IFRN"
      ],
      "metadata": {
        "id": "KQK9cQffxXL0"
      }
    },
    {
      "cell_type": "code",
      "execution_count": 8,
      "metadata": {
        "colab": {
          "base_uri": "https://localhost:8080/"
        },
        "id": "cgrOP9wrxOlu",
        "outputId": "b21800b1-2fa1-46d2-88d1-95f48041f95c"
      },
      "outputs": [
        {
          "output_type": "stream",
          "name": "stdout",
          "text": [
            "Calculadora de média ponderada do IFRN\n",
            "Digite a nota 1 (com peso 2):7\n",
            "Digite a nota 2 (com peso 3):6\n",
            "A media ponderada das notas é: 6.40\n",
            "A media ponderada das notas é:  6.4\n",
            "Aprovado\n"
          ]
        }
      ],
      "source": [
        "print (\"Calculadora de média ponderada do IFRN\")\n",
        "#Float, tipagem explícita, para garantir número fracionário\n",
        "n1 = float (input (\"Digite a nota 1 (com peso 2):\"))\n",
        "n2 = float (input (\"Digite a nota 2 (com peso 3):\"))\n",
        "\n",
        "#calculo de media ponderada\n",
        "media = (n1 * 2 +  n2 * 3) / 5\n",
        "\n",
        "#impressao da media\n",
        "print (f\"A media ponderada das notas é: {media:.2f}\")\n",
        "\n",
        "#impressao da media\n",
        "print(\"A media ponderada das notas é: \" , media)\n",
        "\n",
        "#apresentar se o aluno foi aprovado ou não\n",
        "if media >=6:\n",
        "  print(\"Aprovado\")\n",
        "else:\n",
        "  if n1 >=4 and n2 >=4:\n",
        "    print(\"Prova final\")\n",
        "  else:\n",
        "    print(\"Reprovado\")\n",
        "\n"
      ]
    },
    {
      "cell_type": "code",
      "source": [
        ""
      ],
      "metadata": {
        "id": "JEY7gYdLedFx"
      },
      "execution_count": null,
      "outputs": []
    }
  ]
}