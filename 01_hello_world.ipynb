{
  "nbformat": 4,
  "nbformat_minor": 0,
  "metadata": {
    "colab": {
      "provenance": [],
      "toc_visible": true,
      "authorship_tag": "ABX9TyP8qxrNCVIoAWRPjGjTALkV",
      "include_colab_link": true
    },
    "kernelspec": {
      "name": "python3",
      "display_name": "Python 3"
    },
    "language_info": {
      "name": "python"
    }
  },
  "cells": [
    {
      "cell_type": "markdown",
      "metadata": {
        "id": "view-in-github",
        "colab_type": "text"
      },
      "source": [
        "<a href=\"https://colab.research.google.com/github/abeatrizvarela/abeatrizvarela/blob/main/01_hello_world.ipynb\" target=\"_parent\"><img src=\"https://colab.research.google.com/assets/colab-badge.svg\" alt=\"Open In Colab\"/></a>"
      ]
    },
    {
      "cell_type": "markdown",
      "source": [
        "Meu primeiro programa"
      ],
      "metadata": {
        "id": "Eyp9KU0ChQCs"
      }
    },
    {
      "cell_type": "code",
      "execution_count": 4,
      "metadata": {
        "colab": {
          "base_uri": "https://localhost:8080/"
        },
        "id": "f78SrRBYccn1",
        "outputId": "f9d35794-8a23-4439-9497-f46e8698f1b5"
      },
      "outputs": [
        {
          "output_type": "stream",
          "name": "stdout",
          "text": [
            "Hello world\n"
          ]
        }
      ],
      "source": [
        "#Imprime \"hello world\" na tela\n",
        "print(\"Hello world\")\n",
        "\n"
      ]
    },
    {
      "cell_type": "code",
      "source": [
        "#Variáveis em Python\n",
        "\n",
        "#Atribui a string \"Hello, World\" a variável menssage\n",
        "messege= \"Hello world\"\n",
        "print (messege)"
      ],
      "metadata": {
        "colab": {
          "base_uri": "https://localhost:8080/"
        },
        "id": "NCSxV6Q6pLZd",
        "outputId": "5bdab218-fc14-483d-d726-43e13a67fbe0"
      },
      "execution_count": 6,
      "outputs": [
        {
          "output_type": "stream",
          "name": "stdout",
          "text": [
            "Hello world\n"
          ]
        }
      ]
    },
    {
      "cell_type": "code",
      "source": [
        "#Entrada de dados do usuário\n",
        "#Solicitar ao usuário que insira seu nome\n",
        "nome = input (\"Qual o seu nome?\")\n",
        "print (\"Olá, \"+ nome + \"!\")\n"
      ],
      "metadata": {
        "colab": {
          "base_uri": "https://localhost:8080/"
        },
        "id": "mb3ljuTWtkiY",
        "outputId": "6808ff7d-57ea-4b0a-c06b-a5982166063c"
      },
      "execution_count": 7,
      "outputs": [
        {
          "output_type": "stream",
          "name": "stdout",
          "text": [
            "Qual o seu nome?Beatriz\n",
            "Olá, Beatriz!\n"
          ]
        }
      ]
    }
  ]
}