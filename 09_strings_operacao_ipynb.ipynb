{
  "nbformat": 4,
  "nbformat_minor": 0,
  "metadata": {
    "colab": {
      "provenance": [],
      "authorship_tag": "ABX9TyPu10b6BXmXJv+2Ka6a91uz",
      "include_colab_link": true
    },
    "kernelspec": {
      "name": "python3",
      "display_name": "Python 3"
    },
    "language_info": {
      "name": "python"
    }
  },
  "cells": [
    {
      "cell_type": "markdown",
      "metadata": {
        "id": "view-in-github",
        "colab_type": "text"
      },
      "source": [
        "<a href=\"https://colab.research.google.com/github/abeatrizvarela/abeatrizvarela/blob/main/09_strings_operacao_ipynb.ipynb\" target=\"_parent\"><img src=\"https://colab.research.google.com/assets/colab-badge.svg\" alt=\"Open In Colab\"/></a>"
      ]
    },
    {
      "cell_type": "code",
      "execution_count": null,
      "metadata": {
        "id": "4EG6zwafSJ-p"
      },
      "outputs": [],
      "source": [
        "#Exemplos de fatiamento de strings\n",
        "a=\"abcdefghij\"\n",
        "b=\"0123456789\"\n",
        "#print(a[0:2])\n",
        "#print(a[0:3])\n",
        "#print(a[2:2])\n",
        "#print(a[2:3])\n",
        "#Pegar letra f\n",
        "#print(a[5:-3])\n",
        "#print(a[:])\n",
        "#indice esquerdo\n",
        "print(a[-1:])\n",
        "#indice direito\n",
        "print(a[:-1])"
      ]
    }
  ]
}