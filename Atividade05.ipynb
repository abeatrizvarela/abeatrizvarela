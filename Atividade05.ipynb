{
  "nbformat": 4,
  "nbformat_minor": 0,
  "metadata": {
    "colab": {
      "provenance": [],
      "authorship_tag": "ABX9TyOdc/EDQpbzMqjNBC2ZNEUD",
      "include_colab_link": true
    },
    "kernelspec": {
      "name": "python3",
      "display_name": "Python 3"
    },
    "language_info": {
      "name": "python"
    }
  },
  "cells": [
    {
      "cell_type": "markdown",
      "metadata": {
        "id": "view-in-github",
        "colab_type": "text"
      },
      "source": [
        "<a href=\"https://colab.research.google.com/github/abeatrizvarela/abeatrizvarela/blob/main/Atividade05.ipynb\" target=\"_parent\"><img src=\"https://colab.research.google.com/assets/colab-badge.svg\" alt=\"Open In Colab\"/></a>"
      ]
    },
    {
      "cell_type": "markdown",
      "source": [
        "1. Crie um programa que leia um número inteiro. Quando este for negativo,\n",
        "some-o com 100; quando positivo, apenas faça sua impressão."
      ],
      "metadata": {
        "id": "1LaEHvUnYV7t"
      }
    },
    {
      "cell_type": "code",
      "execution_count": 48,
      "metadata": {
        "colab": {
          "base_uri": "https://localhost:8080/"
        },
        "id": "YehBFwx_XE3Y",
        "outputId": "14ffdf53-fccd-4daf-80a5-0e48a2d3ba43"
      },
      "outputs": [
        {
          "output_type": "stream",
          "name": "stdout",
          "text": [
            "Digite um número inteiro:-5\n",
            "A soma do número -5 com 100 é: 95\n"
          ]
        }
      ],
      "source": [
        "num = int(input(\"Digite um número inteiro:\"))\n",
        "\n",
        "if num >= 0:\n",
        "  print(\"O número digitado é:\", num)\n",
        "else:\n",
        "  print(\"A soma do número {} com 100 é: {}\".format(num, (num + 100)))"
      ]
    },
    {
      "cell_type": "markdown",
      "source": [
        "2. Crie um programa que leia o código de um curso do IFRN, Campus\n",
        "Natal Central, e indique o nome do curso de acordo com a tabela abaixo. Se o\n",
        "programa ler um código inexistente no Instituto, uma mensagem de alerta deve\n",
        "ser informada ao usuário."
      ],
      "metadata": {
        "id": "eI-jaIzmYWdd"
      }
    },
    {
      "cell_type": "code",
      "source": [
        "\n",
        "Curso = {\"1\": \"Técnico em Informática Subseqüente\", \"2\": \"Técnico em Informática EJA\", \"3\": \"Técnico em Cooperativismo\", \"4\": \"Técnico em Cooperativismo EJA\", \"5\": \"Licenciatura em Física\" }\n",
        "\n",
        "código = input(\"Insira o código do curso:\")\n",
        "\n",
        "if código in Curso:\n",
        "  print(\"O curso do  IFRN, Campus Natal Central, com código {} é {}.\".format(código, Curso[código]))\n",
        "else:\n",
        "  print(\"Código inexistente, tente outra vez.\")"
      ],
      "metadata": {
        "id": "3_lLkhaPaGTV",
        "outputId": "4019697f-bd3b-444f-c345-9d85d2e07454",
        "colab": {
          "base_uri": "https://localhost:8080/"
        }
      },
      "execution_count": 34,
      "outputs": [
        {
          "output_type": "stream",
          "name": "stdout",
          "text": [
            "Insira o código do curso:4\n",
            "O curso do  IFRN, Campus Natal Central, com código 4 é Técnico em Cooperativismo EJA.\n"
          ]
        }
      ]
    },
    {
      "cell_type": "markdown",
      "source": [
        "3. a) Crie uma variável res1 que informa se as duas\n",
        "strings possuem o mesmo comprimento."
      ],
      "metadata": {
        "id": "wFm4Xwzrd5tZ"
      }
    },
    {
      "cell_type": "code",
      "source": [
        "print (\"Tamanho da string\")\n",
        "str1 = str(input(\"Insira uma frase:\"))\n",
        "print(\"O tamanho da primeira string é: '{}' é {}\".format(str1, len(str1)))\n",
        "\n",
        "str2 = str(input(\"Insira outra frase:\"))\n",
        "print(\"O tamanho da segunda string: '{}' é {}\".format(str2, len(str2)))\n",
        "\n",
        "\n",
        "if len(str1) == len(str2):\n",
        "  print(\"As duas strings tem o mesmo tamanho\")\n",
        "else:\n",
        "  print(\"As duas strings {} e {} tem tamanhos diferentes\".format(str1, str2))\n"
      ],
      "metadata": {
        "id": "nPJ9YQxGd6DZ",
        "outputId": "8b8975b3-02d5-4445-f207-1338f1e62854",
        "colab": {
          "base_uri": "https://localhost:8080/"
        }
      },
      "execution_count": 40,
      "outputs": [
        {
          "output_type": "stream",
          "name": "stdout",
          "text": [
            "Tamanho da string\n",
            "Insira uma frase:bom dia\n",
            "O tamanho da primeira string é: 'bom dia' é 7\n",
            "Insira outra frase:oi, bom dia!\n",
            "O tamanho da segunda string: 'oi, bom dia!' é 12\n",
            "As duas strings bom dia e oi, bom dia! tem tamanhos diferentes\n"
          ]
        }
      ]
    },
    {
      "cell_type": "markdown",
      "source": [
        "\n",
        "3.b) Crie uma variável res2 que informa se as duas strings são iguais ou diferentes no conteúdo."
      ],
      "metadata": {
        "id": "z-05GxhVfGqN"
      }
    },
    {
      "cell_type": "code",
      "source": [
        "str1 = str(input(\"Insira uma frase:\"))\n",
        "str2 = str(input(\"Insira outra frase:\"))\n",
        "\n",
        "if res1:\n",
        "  print(\"As duas strings '{}' e '{}', são iguais\".format(str1, str2))\n",
        "else:\n",
        "  print(\"As duas strings '{}' e '{}' são diferentes\".format(str1, str2))"
      ],
      "metadata": {
        "id": "2u3FdbZ-fPTL",
        "outputId": "018fedd4-7521-4b40-de99-3f13b613e962",
        "colab": {
          "base_uri": "https://localhost:8080/"
        }
      },
      "execution_count": 43,
      "outputs": [
        {
          "output_type": "stream",
          "name": "stdout",
          "text": [
            "Insira uma frase:oi bom dia\n",
            "Insira outra frase:oi bom dia\n",
            "As duas strings 'oi bom dia' e 'oi bom dia' são diferentes\n"
          ]
        }
      ]
    },
    {
      "cell_type": "markdown",
      "source": [
        "4. Faça um programa que lê uma string e corta os dois primeiros caracteres e os dois últimos"
      ],
      "metadata": {
        "id": "hVOQoZgagBbU"
      }
    },
    {
      "cell_type": "code",
      "source": [
        "str1 = input(\"Insira uma frase:\")\n",
        "cont = len(str1)\n",
        "print(\"Cortando as duas primeiras e as duas últimas letras a string '{}'({}), fica '{}'\".format(str1 ,cont, str1 [2 : -2]))\n",
        ""
      ],
      "metadata": {
        "id": "YfE0WRJngB1L",
        "outputId": "a5c889a3-9e73-49cc-9dd6-54e0147b8f07",
        "colab": {
          "base_uri": "https://localhost:8080/"
        }
      },
      "execution_count": 45,
      "outputs": [
        {
          "output_type": "stream",
          "name": "stdout",
          "text": [
            "Insira uma frase:paralelepipedo\n",
            "Cortando as duas primeiras e as duas últimas letras a string 'paralelepipedo'(14), fica 'ralelepipe'\n"
          ]
        }
      ]
    }
  ]
}