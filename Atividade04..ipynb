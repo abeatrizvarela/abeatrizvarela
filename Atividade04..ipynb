{
  "nbformat": 4,
  "nbformat_minor": 0,
  "metadata": {
    "colab": {
      "provenance": [],
      "authorship_tag": "ABX9TyNOBcpDzf+xS7qP4FodO6Qj",
      "include_colab_link": true
    },
    "kernelspec": {
      "name": "python3",
      "display_name": "Python 3"
    },
    "language_info": {
      "name": "python"
    }
  },
  "cells": [
    {
      "cell_type": "markdown",
      "metadata": {
        "id": "view-in-github",
        "colab_type": "text"
      },
      "source": [
        "<a href=\"https://colab.research.google.com/github/abeatrizvarela/abeatrizvarela/blob/main/Atividade04..ipynb\" target=\"_parent\"><img src=\"https://colab.research.google.com/assets/colab-badge.svg\" alt=\"Open In Colab\"/></a>"
      ]
    },
    {
      "cell_type": "markdown",
      "source": [
        "1.Escreva um programa que imprima \"Olá, Mundo!\" na tela."
      ],
      "metadata": {
        "id": "DqjMDYpj7KLl"
      }
    },
    {
      "cell_type": "code",
      "execution_count": 1,
      "metadata": {
        "colab": {
          "base_uri": "https://localhost:8080/"
        },
        "id": "MMlGZzw47HxT",
        "outputId": "8d54a2d0-bba6-4d4f-a898-65a53eed431f"
      },
      "outputs": [
        {
          "output_type": "stream",
          "name": "stdout",
          "text": [
            "Olá, mundo!\n"
          ]
        }
      ],
      "source": [
        "print (\"Olá, mundo!\")"
      ]
    },
    {
      "cell_type": "markdown",
      "source": [
        "2. Escreva um programa que imprima \"Olá, Mundo!\" na tela."
      ],
      "metadata": {
        "id": "GinH6mfR7JDU"
      }
    },
    {
      "cell_type": "code",
      "source": [
        "print (\"Calculadora de média do IFRN\")\n",
        "#Imprime \"Calculadora de média do IFRN\"\n",
        "n1 = float (input (\"Digite a nota 1 \"))\n",
        "n2 = float (input (\"Digite a nota 2 \"))\n",
        "n3 = float (input (\"Digite a nota 3 \"))\n",
        "\n",
        "#calculo de média\n",
        "media = (n1 +  n2 + n3) / 3\n",
        "\n",
        "#impressao da media\n",
        "print (f\"A média das notas é: {media:.2f}\")"
      ],
      "metadata": {
        "colab": {
          "base_uri": "https://localhost:8080/"
        },
        "id": "3WT5SDEb7g6G",
        "outputId": "5d80419c-ff28-47cd-96e9-a7472e3fd30d"
      },
      "execution_count": 2,
      "outputs": [
        {
          "output_type": "stream",
          "name": "stdout",
          "text": [
            "Calculadora de média do IFRN\n",
            "Digite a nota 1 3\n",
            "Digite a nota 2 4\n",
            "Digite a nota 3 5\n",
            "A média das notas é: 4.00\n"
          ]
        }
      ]
    },
    {
      "cell_type": "markdown",
      "source": [
        "3. Escreva um programa que calcule a média de notas, permitindo a entrada repetida de notas até que o usuário indique que não deseja mais inserir."
      ],
      "metadata": {
        "id": "qFuI4faq7kim"
      }
    },
    {
      "cell_type": "code",
      "source": [
        "print (\"Calculadora de média de notas\")\n",
        "notas = []\n",
        "continuar = 'sim'\n",
        "\n",
        "while continuar == 'sim':\n",
        "    nota = float(input(\"Digite uma nota: \"))\n",
        "    notas.append(nota)\n",
        "\n",
        "    continuar = input(\"Deseja inserir outra nota? (sim ou não): \")\n",
        "\n",
        "    if continuar != 'sim' and continuar != 'não':\n",
        "        print(\"Opção inválida, por favor digite 'sim' para sim ou 'não' para não.\")\n",
        "        continuar = input(\"Deseja inserir outra nota? (sim ou não): \")\n",
        "if len(notas) > 0:\n",
        "    media = sum(notas) / len(notas)\n",
        "    print(f\"A média das notas é: {media:.2f}\")\n",
        "else:\n",
        "    print(\"Nenhuma nota foi inserida.\")"
      ],
      "metadata": {
        "colab": {
          "base_uri": "https://localhost:8080/"
        },
        "id": "jEMZxSyk7sQB",
        "outputId": "9a7a9428-5d84-4a21-95d1-64e7e7ac04ef"
      },
      "execution_count": 4,
      "outputs": [
        {
          "output_type": "stream",
          "name": "stdout",
          "text": [
            "Calculadora de média de notas\n",
            "Digite uma nota: 4\n",
            "Deseja inserir outra nota? (sim ou não): sim\n",
            "Digite uma nota: 5\n",
            "Deseja inserir outra nota? (sim ou não): sim\n",
            "Digite uma nota: 6\n",
            "Deseja inserir outra nota? (sim ou não): não\n",
            "A média das notas é: 5.00\n"
          ]
        }
      ]
    },
    {
      "cell_type": "markdown",
      "source": [
        "4. Crie um programa que leia três números e determine o maior deles."
      ],
      "metadata": {
        "id": "wVhLHSmn721o"
      }
    },
    {
      "cell_type": "code",
      "source": [
        "#'a','b' e 'c' númericas imprima a maior delas\n",
        "a=10\n",
        "b=20\n",
        "c=30\n",
        "\n",
        "if a < b:\n",
        "  if b < c:\n",
        "    print(c)\n",
        "  else:\n",
        "    print(b)\n",
        "else:\n",
        "  if a < c:\n",
        "    print(c)\n",
        "  else:\n",
        "    print(a)"
      ],
      "metadata": {
        "colab": {
          "base_uri": "https://localhost:8080/"
        },
        "id": "IdHsJoes736l",
        "outputId": "3cd1ae87-205d-4d18-ae56-3a13990ac0d4"
      },
      "execution_count": 5,
      "outputs": [
        {
          "output_type": "stream",
          "name": "stdout",
          "text": [
            "30\n"
          ]
        }
      ]
    },
    {
      "cell_type": "markdown",
      "source": [
        "5.Desenvolva um programa que monitore a qualidade da água de um reservatório usando um loop while"
      ],
      "metadata": {
        "id": "1c9idgLd8Gi0"
      }
    },
    {
      "cell_type": "code",
      "source": [
        "#Programa de monitoramento da qualidade da água de um reservatório\n",
        "print(\"Insira o nível de poluição para verificar se está dentro do padrão aceito.\")\n",
        "poluição = True\n",
        "#poluição = 1 #outro exemplo\n",
        "while poluição: #loop infinito // infinete loop\n",
        "  nivel_poluição = float(input(\"Digite o nível de poluição em mg/L: \"))\n",
        "  #verificando se o  0.2 > nivel_poluição < 2\n",
        "  if nivel_poluição < 0.2:\n",
        "    print(\"Atenção: O nível de poluição está aceitável\")\n",
        "  elif nivel_poluição > 2.0:\n",
        "    print(\"Atenção: o nível de cloro está acima do padrão aceitável.\")\n",
        "  else:\n",
        "    print(\"O nível do cloro está dentro dos padrões aceitáveis.\")\n",
        "poluição = False"
      ],
      "metadata": {
        "colab": {
          "base_uri": "https://localhost:8080/"
        },
        "id": "8mREAqJJ8HF8",
        "outputId": "6fbeab9b-2278-40ff-ed99-1c342b8f4758"
      },
      "execution_count": null,
      "outputs": [
        {
          "output_type": "stream",
          "name": "stdout",
          "text": [
            "Insira o nível de poluição para verificar se está dentro do padrão aceito.\n",
            "Digite o nível de poluição em mg/L: 2\n",
            "O nível do cloro está dentro dos padrões aceitáveis.\n",
            "Digite o nível de poluição em mg/L: 3\n",
            "Atenção: o nível de cloro está acima do padrão aceitável.\n"
          ]
        }
      ]
    },
    {
      "cell_type": "markdown",
      "source": [
        "6. Implemente um programa que utilize um loop while para calcular a soma dos números de 1 a 100."
      ],
      "metadata": {
        "id": "Db2vGNAV8R91"
      }
    },
    {
      "cell_type": "code",
      "source": [
        "print (soma dos números de 1 a 100)\n",
        "# variáveis\n",
        "numero = 1\n",
        "soma = 0\n",
        "\n",
        "# Calculando a soma dos números de 1 a 100\n",
        "while numero <= 100:\n",
        "    soma += numero\n",
        "    numero += 1\n",
        "\n",
        "# Exibindo o resultado\n",
        "print(f\"A soma dos números de 1 a 100 é: {soma}\")\n"
      ],
      "metadata": {
        "id": "iixHoz_88Sa9"
      },
      "execution_count": null,
      "outputs": []
    },
    {
      "cell_type": "markdown",
      "source": [
        "7.Escreva um programa que imprima todos os números ímpares de 1 a 50 usando um loop for"
      ],
      "metadata": {
        "id": "9HYjiAuS8kd7"
      }
    },
    {
      "cell_type": "code",
      "source": [
        "# Loop for para imprimir números ímpares de 1 a 50\n",
        "for num in range(1, 51, 2):\n",
        "    print(num)"
      ],
      "metadata": {
        "id": "M99PLc0I8l1a"
      },
      "execution_count": null,
      "outputs": []
    }
  ]
}