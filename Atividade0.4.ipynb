{
  "nbformat": 4,
  "nbformat_minor": 0,
  "metadata": {
    "colab": {
      "provenance": [],
      "authorship_tag": "ABX9TyP6j5kOUOCx940sv2G8rRE7",
      "include_colab_link": true
    },
    "kernelspec": {
      "name": "python3",
      "display_name": "Python 3"
    },
    "language_info": {
      "name": "python"
    }
  },
  "cells": [
    {
      "cell_type": "markdown",
      "metadata": {
        "id": "view-in-github",
        "colab_type": "text"
      },
      "source": [
        "<a href=\"https://colab.research.google.com/github/abeatrizvarela/abeatrizvarela/blob/main/Atividade0.4.ipynb\" target=\"_parent\"><img src=\"https://colab.research.google.com/assets/colab-badge.svg\" alt=\"Open In Colab\"/></a>"
      ]
    },
    {
      "cell_type": "markdown",
      "source": [
        "1.\n",
        "Escreva um programa que imprima \"Olá, Mundo!\" na tela."
      ],
      "metadata": {
        "id": "iScqYAZqdCQ4"
      }
    },
    {
      "cell_type": "code",
      "execution_count": null,
      "metadata": {
        "id": "M1k3gTABc-kr"
      },
      "outputs": [],
      "source": [
        "print(\"Olá, mundo!\")"
      ]
    },
    {
      "cell_type": "code",
      "source": [],
      "metadata": {
        "id": "g-vIY6VE3zDa"
      },
      "execution_count": null,
      "outputs": []
    },
    {
      "cell_type": "markdown",
      "source": [
        "2.\n",
        "Crie um programa que leia três notas de um aluno e calcule a média final."
      ],
      "metadata": {
        "id": "nHeGXPhGdjG9"
      }
    },
    {
      "cell_type": "code",
      "source": [
        "print (\"Calculadora de média do IFRN\")\n",
        "#Imprime \"Calculadora de média do IFRN\"\n",
        "n1 = float (input (\"Digite a nota 1 \"))\n",
        "n2 = float (input (\"Digite a nota 2 \"))\n",
        "n3 = float (input (\"Digite a nota 3 \"))\n",
        "\n",
        "#calculo de média\n",
        "media = (n1 +  n2 + n3) / 3\n",
        "\n",
        "#impressao da media\n",
        "print (f\"A média das notas é: {media:.2f}\")\n"
      ],
      "metadata": {
        "colab": {
          "base_uri": "https://localhost:8080/"
        },
        "id": "A2JQrU6NdjRr",
        "outputId": "a4aac6b4-fee2-45f8-d502-725c37b829f0"
      },
      "execution_count": null,
      "outputs": [
        {
          "output_type": "stream",
          "name": "stdout",
          "text": [
            "Calculadora de média do IFRN\n",
            "Digite a nota 1 3\n",
            "Digite a nota 2 4\n",
            "Digite a nota 3 5\n",
            "A média das notas é: 4.00\n"
          ]
        }
      ]
    },
    {
      "cell_type": "markdown",
      "source": [
        "3.\n",
        "Escreva um programa que calcule a média de notas, permitindo a entrada repetida de notas até que o usuário indique que não deseja mais inserir."
      ],
      "metadata": {
        "id": "e37fUFd2eFcB"
      }
    },
    {
      "cell_type": "code",
      "source": [
        "print (\"Calculadora de média de notas\")\n",
        "notas = []\n",
        "continuar = 'sim'\n",
        "\n",
        "while continuar == 'sim':\n",
        "    nota = float(input(\"Digite uma nota: \"))\n",
        "    notas.append(nota)\n",
        "\n",
        "    continuar = input(\"Deseja inserir outra nota? (sim ou não): \")\n",
        "\n",
        "    if continuar != 'sim' and continuar != 'não':\n",
        "        print(\"Opção inválida, por favor digite 'sim' para sim ou 'não' para não.\")\n",
        "        continuar = input(\"Deseja inserir outra nota? (sim ou não): \")\n",
        "if len(notas) > 0:\n",
        "    media = sum(notas) / len(notas)\n",
        "    print(f\"A média das notas é: {media:.2f}\")\n",
        "else:\n",
        "    print(\"Nenhuma nota foi inserida.\")"
      ],
      "metadata": {
        "id": "PE5WYK3UeEk3",
        "outputId": "ab667c3b-59cc-4692-a15d-043c7f570d44",
        "colab": {
          "base_uri": "https://localhost:8080/"
        }
      },
      "execution_count": 3,
      "outputs": [
        {
          "output_type": "stream",
          "name": "stdout",
          "text": [
            "Calculadora de média de notas\n",
            "Digite uma nota: 5\n",
            "Deseja inserir outra nota? (sim ou não): 7\n",
            "Opção inválida, por favor digite 'sim' para sim ou 'não' para não.\n",
            "Deseja inserir outra nota? (sim ou não): sim\n",
            "Digite uma nota: 9\n",
            "Deseja inserir outra nota? (sim ou não): nao\n",
            "Opção inválida, por favor digite 'sim' para sim ou 'não' para não.\n",
            "Deseja inserir outra nota? (sim ou não): não\n",
            "A média das notas é: 7.00\n"
          ]
        }
      ]
    },
    {
      "cell_type": "markdown",
      "source": [
        "\n",
        "4.\n",
        "Crie um programa que leia três números e determine o maior deles.\n",
        "\n",
        "---\n",
        "\n"
      ],
      "metadata": {
        "id": "wHuO3qFReEso"
      }
    },
    {
      "cell_type": "code",
      "source": [
        "#'a','b' e 'c' númericas imprima a maior delas\n",
        "a=10\n",
        "b=20\n",
        "c=30\n",
        "\n",
        "if a < b:\n",
        "  if b < c:\n",
        "    print(c)\n",
        "  else:\n",
        "    print(b)\n",
        "else:\n",
        "  if a < c:\n",
        "    print(c)\n",
        "  else:\n",
        "    print(a)"
      ],
      "metadata": {
        "id": "T92qIRYKeMzi",
        "outputId": "97518b67-0782-479b-fdaf-901122d66dd9",
        "colab": {
          "base_uri": "https://localhost:8080/"
        }
      },
      "execution_count": 4,
      "outputs": [
        {
          "output_type": "stream",
          "name": "stdout",
          "text": [
            "30\n"
          ]
        }
      ]
    },
    {
      "cell_type": "markdown",
      "source": [
        "5.\n",
        "Desenvolva um programa que monitore a qualidade da água de um reservatório usando um loop while."
      ],
      "metadata": {
        "id": "F3F9mZRfeN3a"
      }
    },
    {
      "cell_type": "code",
      "source": [
        "#Programa de monitoramento da qualidade da água de um reservatório\n",
        "print(\"Insira o nível de poluição para verificar se está dentro do padrão aceito.\")\n",
        "poluição = True\n",
        "#poluição = 1 #outro exemplo\n",
        "while poluição: #loop infinito // infinete loop\n",
        "  nivel_poluição = float(input(\"Digite o nível de poluição em mg/L: \"))\n",
        "  #verificando se o  0.2 > nivel_poluição < 2\n",
        "  if nivel_poluição < 0.2:\n",
        "    print(\"Atenção: O nível de poluição está aceitável\")\n",
        "  elif nivel_poluição > 2.0:\n",
        "    print(\"Atenção: o nível de cloro está acima do padrão aceitável.\")\n",
        "  else:\n",
        "    print(\"O nível do cloro está dentro dos padrões aceitáveis.\")\n",
        "poluição = False"
      ],
      "metadata": {
        "id": "orJhrL_6g4xf",
        "outputId": "2906195b-7955-4fc1-c084-bbabef58f9fb",
        "colab": {
          "base_uri": "https://localhost:8080/"
        }
      },
      "execution_count": null,
      "outputs": [
        {
          "output_type": "stream",
          "name": "stdout",
          "text": [
            "Insira o nível de poluição para verificar se está dentro do padrão aceito.\n",
            "Digite o nível de poluição em mg/L: 6\n",
            "Atenção: o nível de cloro está acima do padrão aceitável.\n",
            "Digite o nível de poluição em mg/L: 7\n",
            "Atenção: o nível de cloro está acima do padrão aceitável.\n",
            "Digite o nível de poluição em mg/L: 1\n",
            "O nível do cloro está dentro dos padrões aceitáveis.\n"
          ]
        }
      ]
    },
    {
      "cell_type": "markdown",
      "source": [
        "6.\n",
        "Implemente um programa que utilize um loop while para calcular a soma dos números de 1 a 100.\n"
      ],
      "metadata": {
        "id": "9ywLFQSBg5CH"
      }
    },
    {
      "cell_type": "code",
      "source": [
        "print (soma dos números de 1 a 100)\n",
        "# variáveis\n",
        "numero = 1\n",
        "soma = 0\n",
        "\n",
        "# Calculando a soma dos números de 1 a 100\n",
        "while numero <= 100:\n",
        "    soma += numero\n",
        "    numero += 1\n",
        "\n",
        "# Exibindo o resultado\n",
        "print(f\"A soma dos números de 1 a 100 é: {soma}\")\n"
      ],
      "metadata": {
        "id": "WkrffZPWhBro"
      },
      "execution_count": null,
      "outputs": []
    },
    {
      "cell_type": "markdown",
      "source": [
        "7.\n",
        "Escreva um programa que imprima todos os números ímpares de 1 a 50 usando um loop for."
      ],
      "metadata": {
        "id": "yBVhRIV5hB_Y"
      }
    },
    {
      "cell_type": "code",
      "source": [
        "# Loop for para imprimir números ímpares de 1 a 50\n",
        "for num in range(1, 51, 2):\n",
        "    print(num)"
      ],
      "metadata": {
        "id": "vyDjUDcHhCMA"
      },
      "execution_count": null,
      "outputs": []
    },
    {
      "cell_type": "markdown",
      "source": [
        "8.\n",
        "Desenvolva um programa que utilize os objetos built-in do Python para realizar operações com listas e dicionários."
      ],
      "metadata": {
        "id": "2T8YRn7RhK6B"
      }
    },
    {
      "cell_type": "code",
      "source": [
        "minha_lista = [a, b, c, d, e]\n",
        "\n",
        "# Tamanho da lista\n",
        "tamanho_da_lista = len(minha_lista)\n",
        "print(\"Tamanho da lista:\", tamanho_da_lista)\n",
        "\n",
        "# Tipo de dado da lista\n",
        "tipo_da_lista = type(minha_lista)\n",
        "print(\"Tipo de dado da lista:\", tipo_da_lista)\n",
        "\n",
        "# Métodos disponíveis para a lista\n",
        "metodos_da_lista = dir(minha_lista)\n",
        "print(\"Métodos disponíveis para a lista:\", metodos_da_lista)\n"
      ],
      "metadata": {
        "id": "n3SUvIAVhO7A"
      },
      "execution_count": null,
      "outputs": []
    }
  ]
}