{
  "nbformat": 4,
  "nbformat_minor": 0,
  "metadata": {
    "colab": {
      "provenance": [],
      "authorship_tag": "ABX9TyMAHpRPTdBM11WIPxw4QC97",
      "include_colab_link": true
    },
    "kernelspec": {
      "name": "python3",
      "display_name": "Python 3"
    },
    "language_info": {
      "name": "python"
    }
  },
  "cells": [
    {
      "cell_type": "markdown",
      "metadata": {
        "id": "view-in-github",
        "colab_type": "text"
      },
      "source": [
        "<a href=\"https://colab.research.google.com/github/abeatrizvarela/abeatrizvarela/blob/main/11_n%C3%BAmeros_aleat%C3%B3rios.ipynb\" target=\"_parent\"><img src=\"https://colab.research.google.com/assets/colab-badge.svg\" alt=\"Open In Colab\"/></a>"
      ]
    },
    {
      "cell_type": "code",
      "execution_count": 22,
      "metadata": {
        "colab": {
          "base_uri": "https://localhost:8080/"
        },
        "id": "xbqfz74Fow4W",
        "outputId": "6855c9e5-5115-4570-8cff-d6ddd9021fd4"
      },
      "outputs": [
        {
          "output_type": "stream",
          "name": "stdout",
          "text": [
            "22\n"
          ]
        }
      ],
      "source": [
        "import random\n",
        "print(random.randint(1, 100))"
      ]
    },
    {
      "cell_type": "code",
      "source": [
        "alunos = [\"daniel\", \"maria\", \"joão\", \"beatriz\"]\n",
        "print(random.choice(alunos))\n",
        "print(random.choice(alunos))\n",
        "print(random.choice(alunos))"
      ],
      "metadata": {
        "colab": {
          "base_uri": "https://localhost:8080/"
        },
        "id": "AsALwPVApiPC",
        "outputId": "75eef33d-34c4-460e-b38e-44cad8702f21"
      },
      "execution_count": 18,
      "outputs": [
        {
          "output_type": "stream",
          "name": "stdout",
          "text": [
            "joão\n",
            "daniel\n",
            "beatriz\n"
          ]
        }
      ]
    },
    {
      "cell_type": "code",
      "source": [
        "alunos = ['Daniel', 'João', 'Beatriz', 'Maria']\n",
        "print(alunos)\n",
        "random.shuffle(alunos)\n",
        "print(alunos)"
      ],
      "metadata": {
        "colab": {
          "base_uri": "https://localhost:8080/"
        },
        "id": "vOPi9l79qMO6",
        "outputId": "cd370ff1-ee83-4f8f-8584-5c8d786de2b9"
      },
      "execution_count": 19,
      "outputs": [
        {
          "output_type": "stream",
          "name": "stdout",
          "text": [
            "['Daniel', 'João', 'Beatriz', 'Maria']\n",
            "['Maria', 'Beatriz', 'João', 'Daniel']\n"
          ]
        }
      ]
    },
    {
      "cell_type": "markdown",
      "source": [
        "**função para embaralhar as letras de uma palavra**"
      ],
      "metadata": {
        "id": "7crd6x3SqtYq"
      }
    },
    {
      "cell_type": "code",
      "source": [
        "def embaralhar(palavra):\n",
        "  import random\n",
        "  lista = list(palavra)\n",
        "  random.shuffle(lista)\n",
        "  return '' .join(lista)\n",
        "\n",
        "palavra = (embaralhar(\"programação\"))\n",
        "print(palavra)"
      ],
      "metadata": {
        "colab": {
          "base_uri": "https://localhost:8080/"
        },
        "id": "RP_f3Qp_qs9S",
        "outputId": "5aca4344-af70-42cc-ae2b-1c8f8f10ac0d"
      },
      "execution_count": 11,
      "outputs": [
        {
          "output_type": "stream",
          "name": "stdout",
          "text": [
            "orãçgaopamr\n"
          ]
        }
      ]
    }
  ]
}