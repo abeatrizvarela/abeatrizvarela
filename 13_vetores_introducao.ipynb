{
  "nbformat": 4,
  "nbformat_minor": 0,
  "metadata": {
    "colab": {
      "provenance": [],
      "authorship_tag": "ABX9TyM6fl8voqS3rR+KMRD8G+T6",
      "include_colab_link": true
    },
    "kernelspec": {
      "name": "python3",
      "display_name": "Python 3"
    },
    "language_info": {
      "name": "python"
    }
  },
  "cells": [
    {
      "cell_type": "markdown",
      "metadata": {
        "id": "view-in-github",
        "colab_type": "text"
      },
      "source": [
        "<a href=\"https://colab.research.google.com/github/abeatrizvarela/abeatrizvarela/blob/main/13_vetores_introducao.ipynb\" target=\"_parent\"><img src=\"https://colab.research.google.com/assets/colab-badge.svg\" alt=\"Open In Colab\"/></a>"
      ]
    },
    {
      "cell_type": "code",
      "execution_count": 1,
      "metadata": {
        "colab": {
          "base_uri": "https://localhost:8080/"
        },
        "id": "vnFOaJUogP2S",
        "outputId": "8cb0ead5-e556-469d-c920-f41e1cfdc7cc"
      },
      "outputs": [
        {
          "output_type": "stream",
          "name": "stdout",
          "text": [
            "Familia Revoredo\n",
            "Familia Menezes\n"
          ]
        }
      ],
      "source": [
        "#Considere um edificio com diversas familias e/ou moradores por andar\n",
        "edificio_terreo = \"Familia Revoredo\"\n",
        "edificio_1o_andar = \"Familia Menezes\"\n",
        "edificio_2o_andar = \"Familia Martins\"\n",
        "edificio_3o_andar = \"Familia Pinheiro\"\n",
        "\n",
        "#Como atribuir em localizacoes do vetor, abstraindo o andar\n",
        "edificio = [\n",
        "    edificio_terreo,\n",
        "    edificio_1o_andar,\n",
        "    edificio_2o_andar,\n",
        "    edificio_3o_andar\n",
        "]\n",
        "\n",
        "print(edificio[0])\n",
        "print(edificio[1])"
      ]
    }
  ]
}