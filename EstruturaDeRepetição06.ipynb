{
  "nbformat": 4,
  "nbformat_minor": 0,
  "metadata": {
    "colab": {
      "provenance": [],
      "authorship_tag": "ABX9TyN8fOHgi6SICJI/IsN7dkm8",
      "include_colab_link": true
    },
    "kernelspec": {
      "name": "python3",
      "display_name": "Python 3"
    },
    "language_info": {
      "name": "python"
    }
  },
  "cells": [
    {
      "cell_type": "markdown",
      "metadata": {
        "id": "view-in-github",
        "colab_type": "text"
      },
      "source": [
        "<a href=\"https://colab.research.google.com/github/abeatrizvarela/abeatrizvarela/blob/main/EstruturaDeRepeti%C3%A7%C3%A3o06.ipynb\" target=\"_parent\"><img src=\"https://colab.research.google.com/assets/colab-badge.svg\" alt=\"Open In Colab\"/></a>"
      ]
    },
    {
      "cell_type": "code",
      "execution_count": 10,
      "metadata": {
        "colab": {
          "base_uri": "https://localhost:8080/"
        },
        "id": "MmrnJ4OugISS",
        "outputId": "6f2f8efa-84bd-4021-9082-97c47edaf80e"
      },
      "outputs": [
        {
          "output_type": "stream",
          "name": "stdout",
          "text": [
            "texto exto xto to o "
          ]
        }
      ],
      "source": [
        "from re import I\n",
        "x = \"texto\"\n",
        "while x:\n",
        "  print(x, end=' ')\n",
        "  x = x [1:]\n",
        ""
      ]
    },
    {
      "cell_type": "code",
      "source": [],
      "metadata": {
        "id": "rO3tWS6ohy0M"
      },
      "execution_count": null,
      "outputs": []
    }
  ]
}