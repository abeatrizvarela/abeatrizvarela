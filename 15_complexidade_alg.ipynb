{
  "nbformat": 4,
  "nbformat_minor": 0,
  "metadata": {
    "colab": {
      "provenance": [],
      "authorship_tag": "ABX9TyMba+KXJROfTDl94uSA4hR5",
      "include_colab_link": true
    },
    "kernelspec": {
      "name": "python3",
      "display_name": "Python 3"
    },
    "language_info": {
      "name": "python"
    }
  },
  "cells": [
    {
      "cell_type": "markdown",
      "metadata": {
        "id": "view-in-github",
        "colab_type": "text"
      },
      "source": [
        "<a href=\"https://colab.research.google.com/github/abeatrizvarela/abeatrizvarela/blob/main/15_complexidade_alg.ipynb\" target=\"_parent\"><img src=\"https://colab.research.google.com/assets/colab-badge.svg\" alt=\"Open In Colab\"/></a>"
      ]
    },
    {
      "cell_type": "markdown",
      "source": [
        "**1. Constante (O(1))**\n",
        "A complexidade constante significa que o tempo de execução não depende do tamanho da entrada."
      ],
      "metadata": {
        "id": "MLRG9YCqdQwa"
      }
    },
    {
      "cell_type": "code",
      "execution_count": 3,
      "metadata": {
        "colab": {
          "base_uri": "https://localhost:8080/"
        },
        "id": "vU7xiJPKdKA6",
        "outputId": "3d27e7f7-ab89-4af0-c9a5-4cfcbdc59b63"
      },
      "outputs": [
        {
          "output_type": "execute_result",
          "data": {
            "text/plain": [
              "10"
            ]
          },
          "metadata": {},
          "execution_count": 3
        }
      ],
      "source": [
        "def constante(n):\n",
        "    return n * 2  # Operação constante\n",
        "constante(5)"
      ]
    },
    {
      "cell_type": "markdown",
      "source": [
        "**2. Linear (O(n))**\n",
        "A complexidade linear significa que o tempo de execução cresce proporcionalmente ao tamanho da entrada."
      ],
      "metadata": {
        "id": "fQk-lu1edUwB"
      }
    },
    {
      "cell_type": "code",
      "source": [
        "def linear(n):\n",
        "    for i in range(n):\n",
        "        print(i)  # Operação linear\n",
        "\n",
        "linear(5)"
      ],
      "metadata": {
        "colab": {
          "base_uri": "https://localhost:8080/"
        },
        "id": "olRR9OZBdVIx",
        "outputId": "8e83eaea-e545-4900-b910-10ffc7161f21"
      },
      "execution_count": 2,
      "outputs": [
        {
          "output_type": "stream",
          "name": "stdout",
          "text": [
            "0\n",
            "1\n",
            "2\n",
            "3\n",
            "4\n"
          ]
        }
      ]
    },
    {
      "cell_type": "markdown",
      "source": [
        "**3. Logarítmica (O(log n))**\n",
        "A complexidade logarítmica é frequentemente associada a algoritmos de divisão e conquista, como a busca binária."
      ],
      "metadata": {
        "id": "O9gc1mb5dgLu"
      }
    },
    {
      "cell_type": "code",
      "source": [
        "\n",
        "def logaritmica(arr, target):\n",
        "    low, high = 0, len(arr) - 1\n",
        "    while low <= high:\n",
        "        mid = (low + high) // 2\n",
        "        if arr[mid] == target:\n",
        "            return mid\n",
        "        elif arr[mid] < target:\n",
        "            low = mid + 1\n",
        "        else:\n",
        "            high = mid - 1\n",
        "    return -1\n",
        "\n",
        "logaritmica([1,2,3,4,5],3)\n",
        "\n"
      ],
      "metadata": {
        "colab": {
          "base_uri": "https://localhost:8080/"
        },
        "id": "OJatmvzSdgnW",
        "outputId": "85f174ef-cc7c-4e70-d4bc-df7ef033eacb"
      },
      "execution_count": 4,
      "outputs": [
        {
          "output_type": "execute_result",
          "data": {
            "text/plain": [
              "2"
            ]
          },
          "metadata": {},
          "execution_count": 4
        }
      ]
    },
    {
      "cell_type": "markdown",
      "source": [
        "**4. Logarítmica Linear (O(n log n))**\n",
        "A complexidade logarítmica linear é comum em algoritmos de ordenação eficientes como o Merge Sort e o Quick Sort"
      ],
      "metadata": {
        "id": "H2wWs-7_dg_G"
      }
    },
    {
      "cell_type": "code",
      "source": [
        "def n_log_n(arr):\n",
        "    if len(arr) <= 1:\n",
        "        return arr\n",
        "    mid = len(arr) // 2\n",
        "    left = n_log_n(arr[:mid])\n",
        "    right = n_log_n(arr[mid:])\n",
        "    return merge(left, right)\n",
        "\n",
        "def merge(left, right):\n",
        "    result = []\n",
        "    i = j = 0\n",
        "    while i < len(left) and j < len(right):\n",
        "        if left[i] < right[j]:\n",
        "            result.append(left[i])\n",
        "            i += 1\n",
        "        else:\n",
        "            result.append(right[j])\n",
        "            j += 1\n",
        "    result.extend(left[i:])\n",
        "    result.extend(right[j:])\n",
        "    return result\n",
        "\n",
        "n_log_n([1,10,3,4,20,6,7,8,9,2])"
      ],
      "metadata": {
        "colab": {
          "base_uri": "https://localhost:8080/"
        },
        "id": "ubgsIpr8dhbQ",
        "outputId": "07814610-f343-4690-b455-a4405791ea01"
      },
      "execution_count": 5,
      "outputs": [
        {
          "output_type": "execute_result",
          "data": {
            "text/plain": [
              "[1, 2, 3, 4, 6, 7, 8, 9, 10, 20]"
            ]
          },
          "metadata": {},
          "execution_count": 5
        }
      ]
    },
    {
      "cell_type": "markdown",
      "source": [
        "**5. Quadrática (O(n^2))**\n",
        "A complexidade quadrática é comum em algoritmos que usam dois loops aninhados."
      ],
      "metadata": {
        "id": "knH8iGHkdrux"
      }
    },
    {
      "cell_type": "code",
      "source": [
        "\n",
        "def quadratica(arr):\n",
        "    for i in range(len(arr)):\n",
        "        for j in range(len(arr)):\n",
        "            print(arr[i], arr[j])  # Operação quadrática\n",
        "\n",
        "quadratica([5,5])"
      ],
      "metadata": {
        "colab": {
          "base_uri": "https://localhost:8080/"
        },
        "id": "vbrF458TdsJZ",
        "outputId": "3abbf2a4-4eec-45d6-9c1d-1f295e8edf4c"
      },
      "execution_count": 6,
      "outputs": [
        {
          "output_type": "stream",
          "name": "stdout",
          "text": [
            "5 5\n",
            "5 5\n",
            "5 5\n",
            "5 5\n"
          ]
        }
      ]
    },
    {
      "cell_type": "markdown",
      "source": [
        "**6. Exponencial (O(2^n))**\n",
        "A complexidade exponencial é comum em problemas que têm múltiplas escolhas em cada etapa, como na solução de problemas combinatórios."
      ],
      "metadata": {
        "id": "fpbOMwNAdzGJ"
      }
    },
    {
      "cell_type": "code",
      "source": [
        "def exponencial(n):\n",
        "    if n <= 1:\n",
        "        return 1\n",
        "    else:\n",
        "        return exponencial(n - 1) + exponencial(n - 1)\n",
        "\n",
        "exponencial(5)"
      ],
      "metadata": {
        "colab": {
          "base_uri": "https://localhost:8080/"
        },
        "id": "DbnJd98WdzZp",
        "outputId": "93a63995-81c0-4a99-d587-bbedfe443fd5"
      },
      "execution_count": 7,
      "outputs": [
        {
          "output_type": "execute_result",
          "data": {
            "text/plain": [
              "16"
            ]
          },
          "metadata": {},
          "execution_count": 7
        }
      ]
    },
    {
      "cell_type": "markdown",
      "source": [
        "**7. Fatorial (O(n!))**\n",
        "A complexidade fatorial é comum em algoritmos que geram todas as permutações possíveis"
      ],
      "metadata": {
        "id": "7prk-PJxd6re"
      }
    },
    {
      "cell_type": "code",
      "source": [
        "def fatorial(n):\n",
        "    if n == 0:\n",
        "        return 1\n",
        "    else:\n",
        "        return n * fatorial(n - 1)\n",
        "\n",
        "fatorial(5)"
      ],
      "metadata": {
        "colab": {
          "base_uri": "https://localhost:8080/"
        },
        "id": "BiBqsozAd6_2",
        "outputId": "fa8f74dd-d542-4796-bd3c-4ba48a10444f"
      },
      "execution_count": 8,
      "outputs": [
        {
          "output_type": "execute_result",
          "data": {
            "text/plain": [
              "120"
            ]
          },
          "metadata": {},
          "execution_count": 8
        }
      ]
    },
    {
      "cell_type": "markdown",
      "source": [
        "**8. Polinomial (O(n^k))**\n",
        "A complexidade polinomial é uma generalização para qualquer função polinomial. Um exemplo comum é um algoritmo de força bruta para resolver um problema"
      ],
      "metadata": {
        "id": "YLUyw9LVeFJO"
      }
    },
    {
      "cell_type": "code",
      "source": [
        "def polinomial(arr):\n",
        "    n = len(arr)\n",
        "    for i in range(n):           # O(n)\n",
        "        for j in range(n):       # O(n)\n",
        "            for k in range(n):   # O(n)\n",
        "                print(arr[i], arr[j], arr[k])  # Operação polinomial O(n^3)\n",
        "\n",
        "polinomial([5,5,5])\n",
        ""
      ],
      "metadata": {
        "colab": {
          "base_uri": "https://localhost:8080/"
        },
        "id": "J97NXf46eFcO",
        "outputId": "ec23129b-ccc9-4a40-f472-a970c90e7d16"
      },
      "execution_count": 9,
      "outputs": [
        {
          "output_type": "stream",
          "name": "stdout",
          "text": [
            "5 5 5\n",
            "5 5 5\n",
            "5 5 5\n",
            "5 5 5\n",
            "5 5 5\n",
            "5 5 5\n",
            "5 5 5\n",
            "5 5 5\n",
            "5 5 5\n",
            "5 5 5\n",
            "5 5 5\n",
            "5 5 5\n",
            "5 5 5\n",
            "5 5 5\n",
            "5 5 5\n",
            "5 5 5\n",
            "5 5 5\n",
            "5 5 5\n",
            "5 5 5\n",
            "5 5 5\n",
            "5 5 5\n",
            "5 5 5\n",
            "5 5 5\n",
            "5 5 5\n",
            "5 5 5\n",
            "5 5 5\n",
            "5 5 5\n"
          ]
        }
      ]
    }
  ]
}