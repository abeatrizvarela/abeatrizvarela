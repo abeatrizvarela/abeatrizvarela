{
  "nbformat": 4,
  "nbformat_minor": 0,
  "metadata": {
    "colab": {
      "provenance": [],
      "authorship_tag": "ABX9TyN0KB+MPWQjkDElFVFF1vgs",
      "include_colab_link": true
    },
    "kernelspec": {
      "name": "python3",
      "display_name": "Python 3"
    },
    "language_info": {
      "name": "python"
    }
  },
  "cells": [
    {
      "cell_type": "markdown",
      "metadata": {
        "id": "view-in-github",
        "colab_type": "text"
      },
      "source": [
        "<a href=\"https://colab.research.google.com/github/abeatrizvarela/abeatrizvarela/blob/main/14_matrizes_introdu%C3%A7%C3%A3o.ipynb\" target=\"_parent\"><img src=\"https://colab.research.google.com/assets/colab-badge.svg\" alt=\"Open In Colab\"/></a>"
      ]
    },
    {
      "cell_type": "code",
      "execution_count": 1,
      "metadata": {
        "colab": {
          "base_uri": "https://localhost:8080/"
        },
        "id": "CHpGkfyxzx5C",
        "outputId": "949152a2-3625-4888-a15a-782e54439795"
      },
      "outputs": [
        {
          "output_type": "stream",
          "name": "stdout",
          "text": [
            "[1, 2, 3, 4, 5, 6]\n"
          ]
        }
      ],
      "source": [
        "#unidimensional\n",
        "M = [1,2,3,4,5,6]\n",
        "print(M)"
      ]
    },
    {
      "cell_type": "code",
      "source": [
        "#bidimensional\n",
        "M = [[1,1,1], [1,1,1], [1,1,1]]\n",
        "print(M)\n",
        "M = [[1] * 3] * 3"
      ],
      "metadata": {
        "colab": {
          "base_uri": "https://localhost:8080/"
        },
        "id": "hMbM0h560FmK",
        "outputId": "c5300d80-f00f-4512-b8e7-3e82089bc647"
      },
      "execution_count": 5,
      "outputs": [
        {
          "output_type": "stream",
          "name": "stdout",
          "text": [
            "[[1, 1, 1], [1, 1, 1], [1, 1, 1]]\n"
          ]
        }
      ]
    }
  ]
}