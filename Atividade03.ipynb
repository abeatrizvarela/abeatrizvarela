{
  "nbformat": 4,
  "nbformat_minor": 0,
  "metadata": {
    "colab": {
      "provenance": [],
      "authorship_tag": "ABX9TyOWxK2yyEC+XIxZ9M7hfSw7",
      "include_colab_link": true
    },
    "kernelspec": {
      "name": "python3",
      "display_name": "Python 3"
    },
    "language_info": {
      "name": "python"
    }
  },
  "cells": [
    {
      "cell_type": "markdown",
      "metadata": {
        "id": "view-in-github",
        "colab_type": "text"
      },
      "source": [
        "<a href=\"https://colab.research.google.com/github/abeatrizvarela/abeatrizvarela/blob/main/Atividade03.ipynb\" target=\"_parent\"><img src=\"https://colab.research.google.com/assets/colab-badge.svg\" alt=\"Open In Colab\"/></a>"
      ]
    },
    {
      "cell_type": "markdown",
      "source": [
        "1. Calculadora de IMC (Índice de Massa Corporal):\n"
      ],
      "metadata": {
        "id": "e8kJASvyP8Jw"
      }
    },
    {
      "cell_type": "code",
      "execution_count": 1,
      "metadata": {
        "colab": {
          "base_uri": "https://localhost:8080/"
        },
        "id": "8NEXMlAjPt6Z",
        "outputId": "c80e74f0-d36d-455a-a5ef-72c58d1d3a73"
      },
      "outputs": [
        {
          "output_type": "stream",
          "name": "stdout",
          "text": [
            "Calculadora de IMC\n",
            "Digite o seu peso:39\n",
            "Digite sua altura:1.54\n",
            "O seu IMC é: 16.44\n",
            "Você está com baixo peso\n"
          ]
        }
      ],
      "source": [
        "print(\"Calculadora de IMC\")\n",
        "#Float, tipagem explícita, para garantir número fracionário\n",
        "p = float(input(\"Digite o seu peso:\"))\n",
        "a = float(input(\"Digite sua altura:\"))\n",
        "\n",
        "#Calculo do IMC\n",
        "IMC = (p)/(a * a)\n",
        "\n",
        "#Impressão do IMC\n",
        "print(f\"O seu IMC é: {IMC:.2f}\")\n",
        "\n",
        "#Apresentar se o resultado está em baixo peso, peso normal, sobrepeso ou obesidade\n",
        "if IMC <= 18.50:\n",
        "    print(\"Você está com baixo peso\")\n",
        "elif 18.50 < IMC <= 24.9:\n",
        "    print(\"Você está com peso normal\")\n",
        "elif 25.0 <= IMC <= 29.9:\n",
        "    print(\"Você está com sobrepeso\")\n",
        "else:\n",
        "    print(\"Você está com obesidade\")"
      ]
    },
    {
      "cell_type": "markdown",
      "source": [
        "2. Verificador de Número Par ou Ímpar:"
      ],
      "metadata": {
        "id": "goWfvUskQEZ0"
      }
    },
    {
      "cell_type": "code",
      "source": [
        "print(\"Verificador de número par ou ímpar\")\n",
        "#int, tipagem explícita, para garantir número inteiro\n",
        "n = int(input(\"Digite um número inteiro:\"))\n",
        "\n",
        "#Calculando se n é divisivel por 2\n",
        "c = n % 2\n",
        "\n",
        "#Apresentar se o número é par ou ímpar\n",
        "if c == 0:\n",
        "  print(\"Número par\")\n",
        "else:\n",
        "    print(\"Número ímpar\")"
      ],
      "metadata": {
        "colab": {
          "base_uri": "https://localhost:8080/"
        },
        "id": "P6dCAfwLQLk7",
        "outputId": "9c2ba048-5800-44d6-8f16-46fb7f5f22ad"
      },
      "execution_count": 2,
      "outputs": [
        {
          "output_type": "stream",
          "name": "stdout",
          "text": [
            "Verificador de número par ou ímpar\n",
            "Digite um número inteiro:3\n",
            "Número ímpar\n"
          ]
        }
      ]
    },
    {
      "cell_type": "markdown",
      "source": [
        "3. Conversor de Temperatura:"
      ],
      "metadata": {
        "id": "KK9Ndn7wQJr1"
      }
    },
    {
      "cell_type": "code",
      "source": [
        "print(\"Conversor de temperatura\")\n",
        "#Float, tipagem explícita, para garantir número fracionário\n",
        "C = float(input(\"Digite uma temperatura em Celsius:\"))\n",
        "\n",
        "#Convertendo celsius para fahrenheit\n",
        "F = (C * 9/5) + 32\n",
        "\n",
        "#Apresentar resultado\n",
        "print(\"Sua temperatura em fahrenheit é:\", F)"
      ],
      "metadata": {
        "colab": {
          "base_uri": "https://localhost:8080/"
        },
        "id": "rqCvz4WwQKr9",
        "outputId": "f7ba7574-f4c8-4143-ecb1-bd0941880393"
      },
      "execution_count": 7,
      "outputs": [
        {
          "output_type": "stream",
          "name": "stdout",
          "text": [
            "Conversor de temperatura\n",
            "Digite uma temperatura em Celsius:25\n",
            "Sua temperatura em fahrenheit é: 77.0\n"
          ]
        }
      ]
    },
    {
      "cell_type": "markdown",
      "source": [
        "4. Tabuada de Multiplicação:"
      ],
      "metadata": {
        "id": "IbOOEc-lQTL1"
      }
    },
    {
      "cell_type": "code",
      "source": [
        "print(\"Tabuada de multiplicação\")\n",
        "#Inte, tipagem explícita, para garantir número fracionário\n",
        "n = int(input(\"Digite um numéro inteiro \"))\n",
        "\n",
        "#Tabuada do número fornecido\n",
        "for i in range(1, 11):\n",
        "    resultado = n * i\n",
        "    print(f\"{n} x {i} = {resultado}\")"
      ],
      "metadata": {
        "colab": {
          "base_uri": "https://localhost:8080/"
        },
        "id": "ZVuB8-TPQTvi",
        "outputId": "57f89a8e-c73e-43d7-b200-f41ebcf1ce38"
      },
      "execution_count": 4,
      "outputs": [
        {
          "output_type": "stream",
          "name": "stdout",
          "text": [
            "Tabuada de multiplicação\n",
            "Digite um numéro inteiro 5\n",
            "5 x 1 = 5\n",
            "5 x 2 = 10\n",
            "5 x 3 = 15\n",
            "5 x 4 = 20\n",
            "5 x 5 = 25\n",
            "5 x 6 = 30\n",
            "5 x 7 = 35\n",
            "5 x 8 = 40\n",
            "5 x 9 = 45\n",
            "5 x 10 = 50\n"
          ]
        }
      ]
    },
    {
      "cell_type": "markdown",
      "source": [
        "5. Cálculo de Média Ponderada:\n"
      ],
      "metadata": {
        "id": "rUM1IVvIQUFq"
      }
    },
    {
      "cell_type": "code",
      "source": [
        "print(\"Calculadora de média ponderada\")\n",
        "\n",
        "# Perguntando pelos pesos das notas\n",
        "peso_n1 = float(input(\"Digite o peso para a nota 1: \"))\n",
        "peso_n2 = float(input(\"Digite o peso para a nota 2: \"))\n",
        "peso_n3 = float(input(\"Digite o peso para a nota 3: \"))\n",
        "\n",
        "#Float, tipagem explícita, para garantir número fracionário\n",
        "\n",
        "n1 = float( input(\"Digite a nota 1 (com peso 2): \") )\n",
        "n2 = float( input(\"Digite a nota 2 (com peso 3): \") )\n",
        "n3 = float( input(\"Digite a nota 3 (com peso 4): \"))\n",
        "\n",
        "#calculo de média ponderada\n",
        "media = (n1 * 2 + n2 * 3 + n3 * 4) / 9\n",
        "\n",
        "#impressão da média\n",
        "print(f\"A média ponderada das notas é: {media:.2f}\")\n"
      ],
      "metadata": {
        "colab": {
          "base_uri": "https://localhost:8080/"
        },
        "id": "BitXuWICQf0m",
        "outputId": "371b2ea7-00c9-4752-e029-4d30ea4badc0"
      },
      "execution_count": 6,
      "outputs": [
        {
          "output_type": "stream",
          "name": "stdout",
          "text": [
            "Calculadora de média ponderada\n",
            "Digite o peso para a nota 1: 2\n",
            "Digite o peso para a nota 2: 3\n",
            "Digite o peso para a nota 3: 4\n",
            "Digite a nota 1 (com peso 2): 5\n",
            "Digite a nota 2 (com peso 3): 6\n",
            "Digite a nota 3 (com peso 4): 7\n",
            "A média ponderada das notas é: 6.22\n"
          ]
        }
      ]
    },
    {
      "cell_type": "markdown",
      "source": [
        "6. Verificador de Ano Bissexto:\n",
        "\n",
        "\n",
        "\n",
        "\n",
        "\n",
        "\n",
        "\n",
        "\n",
        "\n",
        "\n",
        "\n",
        "\n",
        "\n"
      ],
      "metadata": {
        "id": "kDHZo1LvQebi"
      }
    },
    {
      "cell_type": "code",
      "source": [
        "print(\"Verificador de ano bissexto\")\n",
        "\n",
        "ano = int(input(\"Digite um ano: \"))\n",
        "\n",
        "if ano % 4 == 0:\n",
        "  if ano % 100 == 0:\n",
        "    if ano % 400 == 0:\n",
        "      print(ano, \"É um ano bissexto\")\n",
        "    else:\n",
        "      print(ano, \"Não é um ano bissexto\")\n",
        "  else:\n",
        "      print(ano, \"É um ano bissexto\")\n",
        "else:\n",
        "      print(ano, \"Não é um ano bissexto\")"
      ],
      "metadata": {
        "colab": {
          "base_uri": "https://localhost:8080/"
        },
        "id": "rdqbR2FcQUc0",
        "outputId": "0c102cf4-2828-434c-c160-f1267cb4d7bc"
      },
      "execution_count": 4,
      "outputs": [
        {
          "output_type": "stream",
          "name": "stdout",
          "text": [
            "Verificador de ano bissexto\n",
            "Digite um ano: 2024\n",
            "2024 É um ano bissexto\n"
          ]
        }
      ]
    },
    {
      "cell_type": "markdown",
      "source": [
        "7. Contador de Vogais em uma String:"
      ],
      "metadata": {
        "id": "uluRTjYkQUvv"
      }
    },
    {
      "cell_type": "code",
      "source": [
        "print(\"Contador de Vogais em uma String\")\n",
        "\n",
        "string = input(\"Digite uma String: \")\n",
        "vogais = [\"a\", \"e\", \"i\", \"o\", \"u\"]\n",
        "contagem = 0\n",
        "\n",
        "for caractere in string:\n",
        "  if caractere.lower() in vogais:\n",
        "    contagem +=1\n",
        "\n",
        "print(\"O número e vogais na String é: \", contagem)\n"
      ],
      "metadata": {
        "colab": {
          "base_uri": "https://localhost:8080/"
        },
        "id": "YC-nwULiQz4A",
        "outputId": "c2d7e91c-ecc1-478b-93de-da32ae9a4e54"
      },
      "execution_count": 5,
      "outputs": [
        {
          "output_type": "stream",
          "name": "stdout",
          "text": [
            "Contador de Vogais em uma String\n",
            "Digite uma String: casa amarela\n",
            "O número e vogais na String é:  6\n"
          ]
        }
      ]
    },
    {
      "cell_type": "markdown",
      "source": [
        "8. Calculadora de Fatorial:"
      ],
      "metadata": {
        "id": "Rt5d43xhQ0P_"
      }
    },
    {
      "cell_type": "code",
      "source": [
        "print(\"Calculadora de Fatorial\")\n",
        "\n",
        "num = int (input(\"Digite um número: \"))\n",
        "\n",
        "if num < 0:\n",
        "  print(\"O número deve ser positivo\")\n",
        "else:\n",
        "  resultado = 1\n",
        "  for r in range(1, num + 1):\n",
        "    resultado *= r\n",
        "  print(\"O fatorial de\", num, \"É\", resultado)\n"
      ],
      "metadata": {
        "colab": {
          "base_uri": "https://localhost:8080/"
        },
        "id": "7dHu0UG0Q0kB",
        "outputId": "ae1b7da9-ca33-499f-e039-69ccfd51da12"
      },
      "execution_count": 9,
      "outputs": [
        {
          "output_type": "stream",
          "name": "stdout",
          "text": [
            "Calculadora de Fatorial\n",
            "Digite um número: 5\n",
            "O fatorial de 5 É 120\n"
          ]
        }
      ]
    },
    {
      "cell_type": "markdown",
      "source": [
        "9. Soma dos Números Pares em um Intervalo:"
      ],
      "metadata": {
        "id": "lLgsgGRCQ0z6"
      }
    },
    {
      "cell_type": "code",
      "source": [
        "print(\"Soma dos Números Pares em um Intervalo\")\n",
        "\n",
        "inicio = int(input(\"Digite o número do inicial do intervalo: \"))\n",
        "fim = int(input(\"Digite o número final do intervalo: \"))\n",
        "print(\"LEMBRE-SE VOCÊ DEFINIU O INTERVALO\")\n",
        "\n",
        "soma_dos_pares = 0\n",
        "for num in range(inicio, fim + 1 ):\n",
        "  if num % 2 == 0:\n",
        "    soma_dos_pares += num\n",
        "print(\"A soma de todos os números pares dentro do intervalo é:\", soma_dos_pares)"
      ],
      "metadata": {
        "colab": {
          "base_uri": "https://localhost:8080/"
        },
        "id": "s4kclHYvQ9zI",
        "outputId": "084412ea-262a-4981-d428-bb4c2cf8f32a"
      },
      "execution_count": 8,
      "outputs": [
        {
          "output_type": "stream",
          "name": "stdout",
          "text": [
            "Soma dos Números Pares em um Intervalo\n",
            "Digite o número do inicial do intervalo: 10\n",
            "Digite o número final do intervalo: 20\n",
            "LEMBRE-SE VOCÊ DEFINIU O INTERVALO\n",
            "A soma de todos os números pares dentro do intervalo é: 90\n"
          ]
        }
      ]
    },
    {
      "cell_type": "markdown",
      "source": [
        "10. Verificador de Número Primo:"
      ],
      "metadata": {
        "id": "eOBDG0ZGQ-MC"
      }
    },
    {
      "cell_type": "code",
      "source": [
        "print(\"Verificador de Número Primo\")\n",
        "\n",
        "import math\n",
        "\n",
        "num = int(input(\"Digite um número positivo: \"))\n",
        "\n",
        "if num <= 1:\n",
        "  print(\"O número não é primo: \")\n",
        "else:\n",
        "  e_primo = True\n",
        "  for r in range(2, int(math.sqrt(num))+ 1):\n",
        "    if num % r == 0:\n",
        "      e_primo = False\n",
        "      break\n",
        "  if e_primo:\n",
        "    print(\"O número é primo\")\n",
        "  else:\n",
        "    print(\"O número não é primo\")\n"
      ],
      "metadata": {
        "colab": {
          "base_uri": "https://localhost:8080/"
        },
        "id": "aQtyCJaNQ-km",
        "outputId": "7747a2dc-9a1e-4242-ca99-68d8f46575be"
      },
      "execution_count": 7,
      "outputs": [
        {
          "output_type": "stream",
          "name": "stdout",
          "text": [
            "Verificador de Número Primo\n",
            "Digite um número positivo: 24\n",
            "O número não é primo\n"
          ]
        }
      ]
    }
  ]
}