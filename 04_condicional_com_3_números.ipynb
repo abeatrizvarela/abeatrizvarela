{
  "nbformat": 4,
  "nbformat_minor": 0,
  "metadata": {
    "colab": {
      "provenance": [],
      "authorship_tag": "ABX9TyOsroHViyUVzIstVs26y+Cm",
      "include_colab_link": true
    },
    "kernelspec": {
      "name": "python3",
      "display_name": "Python 3"
    },
    "language_info": {
      "name": "python"
    }
  },
  "cells": [
    {
      "cell_type": "markdown",
      "metadata": {
        "id": "view-in-github",
        "colab_type": "text"
      },
      "source": [
        "<a href=\"https://colab.research.google.com/github/abeatrizvarela/abeatrizvarela/blob/main/04_condicional_com_3_n%C3%BAmeros.ipynb\" target=\"_parent\"><img src=\"https://colab.research.google.com/assets/colab-badge.svg\" alt=\"Open In Colab\"/></a>"
      ]
    },
    {
      "cell_type": "code",
      "execution_count": 8,
      "metadata": {
        "colab": {
          "base_uri": "https://localhost:8080/"
        },
        "id": "f28fFxBrtYTr",
        "outputId": "57568715-b9df-41ca-987a-931534c5de9e"
      },
      "outputs": [
        {
          "output_type": "stream",
          "name": "stdout",
          "text": [
            "30\n"
          ]
        }
      ],
      "source": [
        "#Crie um código que, a partir de 3 variáveis \"a\", \"b\" e \"c\"\n",
        "a = 10\n",
        "b = 20\n",
        "c = 30\n",
        "\n",
        "if a < b:\n",
        " if b < c:\n",
        "   print(c)\n",
        " else:\n",
        "    print(b)\n",
        "else:\n",
        " if a < c:\n",
        "  print(c)\n",
        " else:\n",
        "    print(a)\n"
      ]
    },
    {
      "cell_type": "code",
      "source": [
        "a = 10\n",
        "b = 20\n",
        "c = 30\n",
        "d = 40\n",
        "e = 50\n",
        "\n",
        "print(max(a,b,c,d,e))\n"
      ],
      "metadata": {
        "colab": {
          "base_uri": "https://localhost:8080/"
        },
        "id": "H-RRLqNayF3Y",
        "outputId": "4e32aa2d-c134-46fa-fa86-1463a84ad7fc"
      },
      "execution_count": 9,
      "outputs": [
        {
          "output_type": "stream",
          "name": "stdout",
          "text": [
            "50\n"
          ]
        }
      ]
    }
  ]
}